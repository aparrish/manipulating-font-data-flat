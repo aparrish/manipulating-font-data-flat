{
 "cells": [
  {
   "cell_type": "markdown",
   "metadata": {},
   "source": [
    "# Manipulating font data in Flat\n",
    "\n",
    "By [Allison Parrish](https://www.decontextualize.com/)\n",
    "\n",
    "> NOTE: This is a draft version, more notes and explanation TK.\n",
    "\n",
    "This is a short notebook showing some techniques for loading data from TrueType/OpenType font files with [Flat](https://xxyxyz.org/flat) and then doing weird things with it. Intended as a follow up to [this notebook on asemic writing with Flat](https://gist.github.com/aparrish/2209201ed3ecf35332d96264e66ce681)—some of the material in this notebook won't make sense unless you've gone through that notebook first.\n",
    "\n",
    "Make sure you've installed Flat before you continue:"
   ]
  },
  {
   "cell_type": "code",
   "execution_count": 2,
   "metadata": {},
   "outputs": [
    {
     "name": "stdout",
     "output_type": "stream",
     "text": [
      "Collecting flat\n",
      "  Using cached https://files.pythonhosted.org/packages/6c/9d/1a99302306ff1dda23caa25a4a907a512509fdaeed511866e4d3eb30f289/Flat-0.3.tar.gz\n",
      "Building wheels for collected packages: flat\n",
      "  Building wheel for flat (setup.py) ... \u001b[?25ldone\n",
      "\u001b[?25h  Stored in directory: /Users/allison/Library/Caches/pip/wheels/5c/27/82/6951d0e0e06195b3aee1b2d1789a97017e17517b4b6eb9c0ea\n",
      "Successfully built flat\n",
      "Installing collected packages: flat\n",
      "Successfully installed flat-0.3\n"
     ]
    }
   ],
   "source": [
    "!pip install flat"
   ]
  },
  {
   "cell_type": "markdown",
   "metadata": {},
   "source": [
    "Then we'll import some important stuff from Flat:"
   ]
  },
  {
   "cell_type": "code",
   "execution_count": 1,
   "metadata": {},
   "outputs": [],
   "source": [
    "from flat import document, rgba, font, strike, shape\n",
    "from flat.command import moveto, quadto, curveto, lineto, closepath"
   ]
  },
  {
   "cell_type": "markdown",
   "metadata": {},
   "source": [
    "And some functions from `numpy` which we'll use for generating random numbers."
   ]
  },
  {
   "cell_type": "code",
   "execution_count": 2,
   "metadata": {},
   "outputs": [],
   "source": [
    "from numpy.random import uniform, normal, choice"
   ]
  },
  {
   "cell_type": "code",
   "execution_count": 3,
   "metadata": {},
   "outputs": [],
   "source": [
    "from math import pi"
   ]
  },
  {
   "cell_type": "code",
   "execution_count": 4,
   "metadata": {},
   "outputs": [],
   "source": [
    "from IPython.display import Image, display\n",
    "def show(page):\n",
    "    display(Image(page.image(kind='rgba').png()))"
   ]
  },
  {
   "cell_type": "markdown",
   "metadata": {},
   "source": [
    "## Preliminaries: Matrix transformations on paths"
   ]
  },
  {
   "cell_type": "markdown",
   "metadata": {},
   "source": [
    "Flat has a concept of a \"path,\" which is a Python list of `command`s. Five such commands are supported:\n",
    "\n",
    "* `moveto(x, y)`: Moves pen to x, y.\n",
    "* `lineto(x, y)`: Moves pen to x, y, drawing a line along the way.\n",
    "* `quadto(x1, y1, x, y)`: Draws a quadratic Bezier curve from current pen position to x, y, using control point x1, y1.\n",
    "* `curveto(x1, y1, x2, y2, x, y)`: Draws a cubic Bezier curve from current point to x, y, using control points x1, y1 and x2, y2.\n",
    "* `closepath`: Closes the current subpath.\n",
    "\n",
    "To draw a path, create a list of `command`s and pass them to a `shape` object's `path` command. For example, to draw a little strange triangle:"
   ]
  },
  {
   "cell_type": "code",
   "execution_count": 5,
   "metadata": {},
   "outputs": [
    {
     "data": {
      "image/png": "[encoded data removed]",
      "text/plain": [
       "<IPython.core.display.Image object>"
      ]
     },
     "metadata": {},
     "output_type": "display_data"
    }
   ],
   "source": [
    "d = document(100, 100, 'mm') # create a document 100mm x 100mm (can replace 'mm' with 'pt')\n",
    "page = d.addpage() # add a page\n",
    "pen = shape().stroke(rgba(0, 0, 0, 255)).fill(rgba(128, 128, 128, 255)).width(4)\n",
    "my_cmds = [moveto(50, 33),\n",
    "           lineto(67, 67),\n",
    "           curveto(60, 50, 40, 50, 33, 67),\n",
    "           closepath]\n",
    "tri_path = pen.path(my_cmds)\n",
    "page.place(tri_path)\n",
    "show(page) # show the page"
   ]
  },
  {
   "cell_type": "markdown",
   "metadata": {},
   "source": [
    "A potential drawback to specifying paths like this is that the coordinates are hard-coded, making it difficult to do things like draw the path at a different size or at a different location on the canvas. To mitigate this drawback, Flat supports a \"transformation matrix\"—a way to mathematically manipulate the points in a path to produce effects like scale, translation, rotation, etc. (I recommend this [helpful introduction to the transformation matrix](https://www.alanzucconi.com/2016/02/10/tranfsormation-matrix/)—not specific to Flat, but the concepts are the same regardless.) In Flat, `command` objects each support a `.transform()` method to perform matrix transformations on individual commands, but it's a bit fiddly to use in practice. I wrote the \"helper functions\" in the cell below to make it easier to perform these transformations on Flat paths (i.e., lists of commands)."
   ]
  },
  {
   "cell_type": "code",
   "execution_count": 6,
   "metadata": {},
   "outputs": [],
   "source": [
    "from copy import copy\n",
    "from math import sin, cos\n",
    "\n",
    "# scales the path by the same factor along both axes\n",
    "def scale(x, cmds):\n",
    "    return [copy(cmd).transform(x, 0, 0, x, 0, 0) for cmd in cmds]\n",
    "\n",
    "# scales the path by the given values on the x and y axes\n",
    "def scalexy(x, y, cmds):\n",
    "    return [copy(cmd).transform(x, 0, 0, y, 0, 0) for cmd in cmds]\n",
    "\n",
    "# translates (moves) the path by x and y units in the respective axes\n",
    "def translate(x, y, cmds):\n",
    "    return [copy(cmd).transform(1, 0, 0, 1, x, y) for cmd in cmds]\n",
    "\n",
    "# rotates the path around the origin with the given angle (in radians)\n",
    "def rotate(theta, cmds):\n",
    "    return [copy(cmd).transform(cos(theta), -sin(theta),\n",
    "                               sin(theta), cos(theta),\n",
    "                               0, 0) for cmd in cmds]"
   ]
  },
  {
   "cell_type": "markdown",
   "metadata": {},
   "source": [
    "To transform a path, call this function with the path as a parameter. It will return a new path (i.e., list of `command`s) with the transformation applied to copies of the commands in the original path. (The commands in the original path will be unchanged.) The code below shows the effect of the commands, with the transformed shapes drawn with slight transparency:"
   ]
  },
  {
   "cell_type": "code",
   "execution_count": 7,
   "metadata": {},
   "outputs": [
    {
     "data": {
      "image/png": "[encoded data removed]",
      "text/plain": [
       "<IPython.core.display.Image object>"
      ]
     },
     "metadata": {},
     "output_type": "display_data"
    }
   ],
   "source": [
    "d = document(100, 100, 'mm')\n",
    "page = d.addpage()\n",
    "pen = shape().stroke(rgba(0, 0, 0, 255)).fill(rgba(128, 128, 128, 255)).width(4)\n",
    "alpha_pen = shape().stroke(rgba(0, 0, 0, 128)).fill(rgba(0, 0, 0, 64)).width(4)\n",
    "\n",
    "my_cmds = [moveto(50, 33),\n",
    "           lineto(67, 67),\n",
    "           curveto(60, 50, 40, 50, 33, 67),\n",
    "           closepath]\n",
    "page.place(pen.path(my_cmds))\n",
    "\n",
    "# move the path up and to the left\n",
    "translated_cmds = translate(-20, -20, my_cmds)\n",
    "page.place(alpha_pen.path(translated_cmds))\n",
    "\n",
    "# scale the path by a factor of 1.5x\n",
    "scaled_cmds = scale(1.5, my_cmds)\n",
    "page.place(alpha_pen.path(scaled_cmds))\n",
    "\n",
    "# rotate the path\n",
    "rotated_cmds = rotate(pi * 0.125, my_cmds)\n",
    "page.place(alpha_pen.path(rotated_cmds))\n",
    "\n",
    "show(page)"
   ]
  },
  {
   "cell_type": "markdown",
   "metadata": {},
   "source": [
    "You'll notice that all of these transformations use the origin (i.e., coordinate `(0, 0)`) as the \"center\" of the transformation, so (e.g.) the \"center\" of the `rotate()` transformation is in the upper left-hand corner of the screen. For this reason, when specifying paths for use with transformations, programmers often intentionally center the figure around the origin: "
   ]
  },
  {
   "cell_type": "code",
   "execution_count": 8,
   "metadata": {},
   "outputs": [
    {
     "data": {
      "image/png": "[encoded data removed]",
      "text/plain": [
       "<IPython.core.display.Image object>"
      ]
     },
     "metadata": {},
     "output_type": "display_data"
    }
   ],
   "source": [
    "d = document(100, 100, 'mm')\n",
    "page = d.addpage()\n",
    "pen = shape().stroke(rgba(0, 0, 0, 255)).fill(rgba(128, 128, 128, 255)).width(4)\n",
    "alpha_pen = shape().stroke(rgba(0, 0, 0, 128)).fill(rgba(0, 0, 0, 64)).width(4)\n",
    "\n",
    "my_cmds = [moveto(0, -33),\n",
    "           lineto(33, 33),\n",
    "           lineto(-33, 33),\n",
    "           closepath]\n",
    "\n",
    "scaled_cmds = scale(1.5, my_cmds)\n",
    "rotated_cmds = rotate(pi * 0.125, scaled_cmds)\n",
    "translated_cmds = translate(50, 50, rotated_cmds)\n",
    "\n",
    "page.place(alpha_pen.path(translated_cmds))\n",
    "\n",
    "show(page)"
   ]
  },
  {
   "cell_type": "markdown",
   "metadata": {},
   "source": [
    "Example nesting transformations with a loop:"
   ]
  },
  {
   "cell_type": "code",
   "execution_count": 10,
   "metadata": {},
   "outputs": [
    {
     "data": {
      "image/png": "[encoded data removed]",
      "text/plain": [
       "<IPython.core.display.Image object>"
      ]
     },
     "metadata": {},
     "output_type": "display_data"
    }
   ],
   "source": [
    "d = document(500, 100, 'mm')\n",
    "page = d.addpage()\n",
    "pen = shape().stroke(rgba(0, 0, 0, 255)).fill(rgba(128, 128, 128, 255)).width(4)\n",
    "alpha_pen = shape().stroke(rgba(0, 0, 0, 128)).fill(rgba(0, 0, 0, 64)).width(4)\n",
    "\n",
    "my_cmds = [moveto(0, -33),\n",
    "           lineto(33, 33),\n",
    "           lineto(-33, 33),\n",
    "           closepath]\n",
    "\n",
    "for i in range(20):\n",
    "    this_cmds = translate(12 + (i * 25), 50, scale(0.25, rotate(i * 0.1, my_cmds)))\n",
    "    page.place(pen.path(this_cmds))\n",
    "\n",
    "show(page)"
   ]
  },
  {
   "cell_type": "markdown",
   "metadata": {},
   "source": [
    "## Drawing strings with flat\n",
    "\n",
    "Flat has a handful of helpful functions for drawing strings to the screen with a given font. You need to download the font file for the font you want to use, put it in the same directory as this notebook, and then call `font.open` as below. We'll use a font from Google's [Noto collection](https://www.google.com/get/noto/)."
   ]
  },
  {
   "cell_type": "code",
   "execution_count": 11,
   "metadata": {},
   "outputs": [],
   "source": [
    "f = font.open(\"./NotoSans-Regular.ttf\")"
   ]
  },
  {
   "cell_type": "markdown",
   "metadata": {},
   "source": [
    "Drawing a string to the screen. The `strike()` call is like `shape()` but for text; `.size()`'s parameters set the font size and leading, respectively; `.frame()` on the placement reflows the text in an invisible rectangle with the given coordinates and size."
   ]
  },
  {
   "cell_type": "code",
   "execution_count": 12,
   "metadata": {},
   "outputs": [
    {
     "data": {
      "image/png": "[encoded data removed]",
      "text/plain": [
       "<IPython.core.display.Image object>"
      ]
     },
     "metadata": {},
     "output_type": "display_data"
    }
   ],
   "source": [
    "d = document(100, 100, 'mm')\n",
    "page = d.addpage()\n",
    "pen = shape().stroke(rgba(0, 0, 0, 255)).fill(rgba(128, 128, 128, 255)).width(4)\n",
    "text_pen = strike(f).color(rgba(0, 0, 0, 255)).size(24, 32)\n",
    "page.place(text_pen.text(\"Sphinx of black quartz, judge my vow.\")).frame(10, 10, 80, 80)\n",
    "show(page)"
   ]
  },
  {
   "cell_type": "markdown",
   "metadata": {},
   "source": [
    "## Digging deeper into the font\n",
    "\n",
    "The font object has more secrets in store: we can access the geometry of glyphs in the font directly. Each glyph has an index; access the glyph at a particular index like so:"
   ]
  },
  {
   "cell_type": "code",
   "execution_count": 13,
   "metadata": {},
   "outputs": [
    {
     "data": {
      "text/plain": [
       "[<flat.command.moveto at 0x114508898>,\n",
       " <flat.command.lineto at 0x114508a58>,\n",
       " <flat.command.lineto at 0x1145084a8>,\n",
       " <flat.command.lineto at 0x114508748>,\n",
       " <flat.command.quadto at 0x113201a68>,\n",
       " <flat.command.quadto at 0x1144fefc0>,\n",
       " <flat.command.quadto at 0x113216ab0>,\n",
       " <flat.command.quadto at 0x1132160d8>,\n",
       " <flat.command.quadto at 0x1120e3ab0>,\n",
       " <flat.command.quadto at 0x1120e3b40>,\n",
       " <flat.command.quadto at 0x1120e3a68>,\n",
       " <flat.command.quadto at 0x1120e3a20>,\n",
       " <flat.command.quadto at 0x1120e3cf0>,\n",
       " <flat.command.quadto at 0x1120e3c60>,\n",
       " <flat.command.lineto at 0x1145080b8>,\n",
       " <flat.command.quadto at 0x1120e3c18>,\n",
       " <flat.command.quadto at 0x1120e3bd0>,\n",
       " <flat.command.quadto at 0x1120e3d80>,\n",
       " <flat.command.quadto at 0x1120e3e58>,\n",
       " <flat.command.quadto at 0x1120e3e10>,\n",
       " <flat.command.quadto at 0x1120e3dc8>,\n",
       " <flat.command.quadto at 0x1120e3d38>,\n",
       " <flat.command.quadto at 0x1120e3ee8>,\n",
       " <flat.command.quadto at 0x1121fdf78>,\n",
       " <flat.command.lineto at 0x114508b38>,\n",
       " <flat.command.lineto at 0x1145084e0>,\n",
       " <flat.command.closepath at 0x113234198>]"
      ]
     },
     "execution_count": 13,
     "metadata": {},
     "output_type": "execute_result"
    }
   ],
   "source": [
    "f.glyph(42)"
   ]
  },
  {
   "cell_type": "markdown",
   "metadata": {},
   "source": [
    "To see what one of these glyphs looks like, I made a helper function:"
   ]
  },
  {
   "cell_type": "code",
   "execution_count": 14,
   "metadata": {},
   "outputs": [],
   "source": [
    "def drawglyphquick(f, cmds, size=50, xoffset=33, yoffset=67):\n",
    "    factor = (1 / f.density) * 50\n",
    "    d = document(100, 100, 'mm') # create a document 100mm x 100mm (can replace 'mm' with 'pt')\n",
    "    page = d.addpage() # add a page\n",
    "    pen = shape().stroke(rgba(0, 0, 0, 255)).fill(rgba(0, 0, 0, 128))\n",
    "    glyph_path = pen.path(translate(33, 67, scale(factor, cmds)))\n",
    "    page.place(glyph_path)\n",
    "    show(page) # show the page"
   ]
  },
  {
   "cell_type": "code",
   "execution_count": 15,
   "metadata": {},
   "outputs": [
    {
     "data": {
      "image/png": "[encoded data removed]",
      "text/plain": [
       "<IPython.core.display.Image object>"
      ]
     },
     "metadata": {},
     "output_type": "display_data"
    }
   ],
   "source": [
    "drawglyphquick(f, f.glyph(42))"
   ]
  },
  {
   "cell_type": "markdown",
   "metadata": {},
   "source": [
    "Try replacing `42` with some other number! But how do you know which character corresponds to which glyph index? First, get the \"order\" of the character (e.g., its Unicode codepoint):"
   ]
  },
  {
   "cell_type": "code",
   "execution_count": 16,
   "metadata": {},
   "outputs": [
    {
     "data": {
      "text/plain": [
       "97"
      ]
     },
     "execution_count": 16,
     "metadata": {},
     "output_type": "execute_result"
    }
   ],
   "source": [
    "ord(\"a\")"
   ]
  },
  {
   "cell_type": "markdown",
   "metadata": {},
   "source": [
    "... and then look it up in the font's `charmap`:"
   ]
  },
  {
   "cell_type": "code",
   "execution_count": 17,
   "metadata": {
    "scrolled": true
   },
   "outputs": [
    {
     "data": {
      "text/plain": [
       "68"
      ]
     },
     "execution_count": 17,
     "metadata": {},
     "output_type": "execute_result"
    }
   ],
   "source": [
    "f.charmap[ord(\"a\")]"
   ]
  },
  {
   "cell_type": "markdown",
   "metadata": {},
   "source": [
    "So, to draw a lower-case `a`:"
   ]
  },
  {
   "cell_type": "code",
   "execution_count": 18,
   "metadata": {},
   "outputs": [
    {
     "data": {
      "image/png": "[encoded data removed]",
      "text/plain": [
       "<IPython.core.display.Image object>"
      ]
     },
     "metadata": {},
     "output_type": "display_data"
    }
   ],
   "source": [
    "drawglyphquick(f, f.glyph(f.charmap[ord(\"a\")]))"
   ]
  },
  {
   "cell_type": "markdown",
   "metadata": {},
   "source": [
    "The font also stores \"advances\" for each character, i.e., how much the pen should move horizontally after drawing the character."
   ]
  },
  {
   "cell_type": "code",
   "execution_count": 19,
   "metadata": {
    "scrolled": true
   },
   "outputs": [
    {
     "data": {
      "text/plain": [
       "561"
      ]
     },
     "execution_count": 19,
     "metadata": {},
     "output_type": "execute_result"
    }
   ],
   "source": [
    "f.advances[f.charmap[ord(\"a\")]]"
   ]
  },
  {
   "cell_type": "markdown",
   "metadata": {},
   "source": [
    "These two helper functions get the path commands for a given character and the advance for a given character:"
   ]
  },
  {
   "cell_type": "code",
   "execution_count": 20,
   "metadata": {},
   "outputs": [],
   "source": [
    "def glyphcommands(f, ch):\n",
    "    return [copy(cmd) for cmd in f.glyph(f.charmap[ord(ch)])]\n",
    "def advancefor(f, ch):\n",
    "    return f.advances[f.charmap[ord(ch)]]"
   ]
  },
  {
   "cell_type": "code",
   "execution_count": 21,
   "metadata": {},
   "outputs": [
    {
     "data": {
      "text/plain": [
       "[<flat.command.moveto at 0x112212c88>,\n",
       " <flat.command.lineto at 0x112212d68>,\n",
       " <flat.command.lineto at 0x112212710>,\n",
       " <flat.command.lineto at 0x112212dd8>,\n",
       " <flat.command.lineto at 0x112212e80>,\n",
       " <flat.command.lineto at 0x112212f28>,\n",
       " <flat.command.lineto at 0x112212f60>,\n",
       " <flat.command.lineto at 0x112212cc0>,\n",
       " <flat.command.lineto at 0x112212f98>,\n",
       " <flat.command.lineto at 0x112212eb8>,\n",
       " <flat.command.lineto at 0x112212ef0>,\n",
       " <flat.command.closepath at 0x112212e10>]"
      ]
     },
     "execution_count": 21,
     "metadata": {},
     "output_type": "execute_result"
    }
   ],
   "source": [
    "glyphcommands(f, \"z\")"
   ]
  },
  {
   "cell_type": "markdown",
   "metadata": {},
   "source": [
    "Now we can analyze which letters are most \"complicated\" (i.e., have the most commands in their path data):"
   ]
  },
  {
   "cell_type": "code",
   "execution_count": 22,
   "metadata": {},
   "outputs": [],
   "source": [
    "alphabet = \"abcdefghijklmnopqrstuvwxyz\""
   ]
  },
  {
   "cell_type": "code",
   "execution_count": 23,
   "metadata": {},
   "outputs": [
    {
     "name": "stdout",
     "output_type": "stream",
     "text": [
      "a 33\n",
      "b 29\n",
      "c 21\n",
      "d 30\n",
      "e 27\n",
      "f 22\n",
      "g 35\n",
      "h 19\n",
      "i 16\n",
      "j 24\n",
      "k 20\n",
      "l 6\n",
      "m 28\n",
      "n 18\n",
      "o 22\n",
      "p 31\n",
      "q 30\n",
      "r 18\n",
      "s 32\n",
      "t 23\n",
      "u 18\n",
      "v 16\n",
      "w 31\n",
      "x 14\n",
      "y 23\n",
      "z 12\n"
     ]
    }
   ],
   "source": [
    "for ch in alphabet:\n",
    "    print(ch, len(glyphcommands(f, ch)))"
   ]
  },
  {
   "cell_type": "markdown",
   "metadata": {},
   "source": [
    "And draw a visualization of this:"
   ]
  },
  {
   "cell_type": "code",
   "execution_count": 24,
   "metadata": {},
   "outputs": [
    {
     "data": {
      "image/png": "[encoded data removed]",
      "text/plain": [
       "<IPython.core.display.Image object>"
      ]
     },
     "metadata": {},
     "output_type": "display_data"
    }
   ],
   "source": [
    "d = document(100, 260, 'mm')\n",
    "page = d.addpage()\n",
    "letter_pen = shape().stroke(rgba(0, 0, 0, 255)).fill(rgba(0, 0, 0, 255))\n",
    "bar_pen = shape().stroke(rgba(0, 0, 0, 255)).fill(rgba(0, 0, 0, 255))\n",
    "factor = (1 / f.density) * 8\n",
    "for i in range(len(alphabet)):\n",
    "    ch = alphabet[i]\n",
    "    bar_len = len(glyphcommands(f, ch))\n",
    "    letter_cmds = translate(0, (i*10)+6, scale(factor, glyphcommands(f, ch)))\n",
    "    glyph_path = letter_pen.path(letter_cmds)\n",
    "    bar = bar_pen.rectangle(10, i*10, 10 + bar_len, 6)\n",
    "    page.place(glyph_path)\n",
    "    page.place(bar)\n",
    "show(page)"
   ]
  },
  {
   "cell_type": "markdown",
   "metadata": {},
   "source": [
    "### Rendering a string \"by hand\"\n",
    "\n",
    "Using `glyphcommands()` and `advancefor()`, you can draw an entire string on the screen. It moves the pen by the character's advance on the x axis and draws the next character at the new position, using `translate()` to translate the path commands.\n",
    "\n",
    "Drawbacks of this approach:\n",
    "\n",
    "* Only works with left-to-right writing\n",
    "* Doesn't take into account kerning\n",
    "\n",
    "The tasks of shaping text and rasterizing it are very sophisticated! See [HarfBuzz](https://en.wikipedia.org/wiki/HarfBuzz), [FreeType](https://www.freetype.org/).\n",
    "\n",
    "Fonts have a `density`, which gives information on how the units of distance in the font's path data correspond to the actual height of a character. We'll use this to get a scaling factor that we apply with `scale()` to the path commands."
   ]
  },
  {
   "cell_type": "code",
   "execution_count": 25,
   "metadata": {},
   "outputs": [],
   "source": [
    "s = \"quartzy foxes\""
   ]
  },
  {
   "cell_type": "code",
   "execution_count": 26,
   "metadata": {},
   "outputs": [
    {
     "data": {
      "image/png": "[encoded data removed]",
      "text/plain": [
       "<IPython.core.display.Image object>"
      ]
     },
     "metadata": {},
     "output_type": "display_data"
    }
   ],
   "source": [
    "d = document(100, 40, 'mm')\n",
    "page = d.addpage()\n",
    "pen = shape().stroke(rgba(0, 0, 0, 255)).fill(rgba(0, 0, 0, 128))\n",
    "factor = (1 / f.density) * 12\n",
    "cx = 0\n",
    "for ch in s:\n",
    "    cmds = translate(cx, 25, scale(factor, glyphcommands(f, ch)))\n",
    "    glyph_path = pen.path(cmds)\n",
    "    page.place(glyph_path)\n",
    "    cx += advancefor(f, ch) * factor\n",
    "show(page)"
   ]
  },
  {
   "cell_type": "markdown",
   "metadata": {},
   "source": [
    "We can introduce some random variation into this process:"
   ]
  },
  {
   "cell_type": "code",
   "execution_count": 27,
   "metadata": {},
   "outputs": [
    {
     "data": {
      "image/png": "[encoded data removed]",
      "text/plain": [
       "<IPython.core.display.Image object>"
      ]
     },
     "metadata": {},
     "output_type": "display_data"
    }
   ],
   "source": [
    "d = document(100, 40, 'mm')\n",
    "page = d.addpage()\n",
    "pen = shape().stroke(rgba(0, 0, 0, 255)).fill(rgba(0, 0, 0, 128))\n",
    "factor = (1 / f.density) * 12\n",
    "cx = 0\n",
    "for ch in s:\n",
    "    cmds = translate(cx, normal(25, 5), scale(factor + uniform(0, factor), glyphcommands(f, ch)))\n",
    "    glyph_path = pen.path(cmds)\n",
    "    page.place(glyph_path)\n",
    "    cx += advancefor(f, ch) * factor\n",
    "show(page)"
   ]
  },
  {
   "cell_type": "markdown",
   "metadata": {},
   "source": [
    "Uniformly distributed letters:"
   ]
  },
  {
   "cell_type": "code",
   "execution_count": 28,
   "metadata": {},
   "outputs": [
    {
     "data": {
      "image/png": "[encoded data removed]",
      "text/plain": [
       "<IPython.core.display.Image object>"
      ]
     },
     "metadata": {},
     "output_type": "display_data"
    }
   ],
   "source": [
    "d = document(100, 100, 'mm')\n",
    "page = d.addpage()\n",
    "pen = shape().stroke(rgba(0, 0, 0, 255)).fill(rgba(0, 0, 0, 128))\n",
    "factor = (1 / f.density) * 12\n",
    "for ch in s:\n",
    "    cmds = translate(uniform(90), uniform(90), scale(factor * uniform(0.5, 1.5), glyphcommands(f, ch)))\n",
    "    glyph_path = pen.path(cmds)\n",
    "    page.place(glyph_path)\n",
    "show(page)"
   ]
  },
  {
   "cell_type": "markdown",
   "metadata": {},
   "source": [
    "Or just rendering the characters as their advances:"
   ]
  },
  {
   "cell_type": "code",
   "execution_count": 29,
   "metadata": {
    "scrolled": false
   },
   "outputs": [
    {
     "data": {
      "image/png": "[encoded data removed]",
      "text/plain": [
       "<IPython.core.display.Image object>"
      ]
     },
     "metadata": {},
     "output_type": "display_data"
    }
   ],
   "source": [
    "d = document(100, 40, 'mm')\n",
    "page = d.addpage()\n",
    "pen = shape().stroke(rgba(0, 0, 0, 255)).fill(rgba(0, 0, 0, 128))\n",
    "factor = (1 / f.density) * 12\n",
    "cx = 0\n",
    "for ch in s:\n",
    "    advance = advancefor(f, ch) * factor\n",
    "    rect = pen.rectangle(cx, 12, advance, 12)\n",
    "    page.place(rect)\n",
    "    cx += advance\n",
    "show(page)"
   ]
  },
  {
   "cell_type": "markdown",
   "metadata": {},
   "source": [
    "### Reinterpreting commands\n",
    "\n",
    "Of course, nothing is forcing us to render these commands as written! We can modify them and reinterpret them."
   ]
  },
  {
   "cell_type": "code",
   "execution_count": 30,
   "metadata": {},
   "outputs": [],
   "source": [
    "cmds = glyphcommands(f, \"b\")"
   ]
  },
  {
   "cell_type": "code",
   "execution_count": 32,
   "metadata": {},
   "outputs": [
    {
     "name": "stdout",
     "output_type": "stream",
     "text": [
      "<class 'flat.command.moveto'> 85 -760\n",
      "<class 'flat.command.lineto'> 173 -760\n",
      "<class 'flat.command.lineto'> 173 -575\n",
      "<class 'flat.command.quadto'> 173 -541 171.5 -511.5\n",
      "<class 'flat.command.quadto'> 170 -482 168 -465\n",
      "<class 'flat.command.lineto'> 173 -465\n",
      "<class 'flat.command.quadto'> 196 -499 236.0 -522.0\n",
      "<class 'flat.command.quadto'> 276 -545 339 -545\n",
      "<class 'flat.command.quadto'> 439 -545 499.5 -475.5\n",
      "<class 'flat.command.quadto'> 560 -406 560 -268\n",
      "<class 'flat.command.quadto'> 560 -130 499.0 -60.0\n",
      "<class 'flat.command.quadto'> 438 10 339 10\n",
      "<class 'flat.command.quadto'> 276 10 236.0 -13.0\n",
      "<class 'flat.command.quadto'> 196 -36 173 -68\n",
      "<class 'flat.command.lineto'> 166 -68\n",
      "<class 'flat.command.lineto'> 148 0\n",
      "<class 'flat.command.lineto'> 85 0\n",
      "<class 'flat.command.lineto'> 85 -760\n",
      "<class 'flat.command.closepath'>\n",
      "<class 'flat.command.moveto'> 469 -269\n",
      "<class 'flat.command.quadto'> 469 -472 324 -472\n",
      "<class 'flat.command.quadto'> 238 -472 205.5 -423.0\n",
      "<class 'flat.command.quadto'> 173 -374 173 -271\n",
      "<class 'flat.command.lineto'> 173 -267\n",
      "<class 'flat.command.quadto'> 173 -168 205.5 -115.5\n",
      "<class 'flat.command.quadto'> 238 -63 326 -63\n",
      "<class 'flat.command.quadto'> 398 -63 433.5 -116.0\n",
      "<class 'flat.command.quadto'> 469 -169 469 -269\n",
      "<class 'flat.command.closepath'>\n"
     ]
    }
   ],
   "source": [
    "from flat.command import moveto, quadto, curveto, lineto, closepath\n",
    "for cmd in cmds:\n",
    "    if type(cmd) in (moveto, lineto):\n",
    "        print(type(cmd), cmd.x, cmd.y)\n",
    "    elif type(cmd) == quadto:\n",
    "        print(type(cmd), cmd.x1, cmd.y1, cmd.x, cmd.y)\n",
    "    elif type(cmd) == curveto:\n",
    "        print(type(cmd), cmd.x1, cmd.y1, cmd.x2, cmd.y2, cmd.x, cmd.y)\n",
    "    elif type(cmd) is type(closepath):\n",
    "        print(type(cmd))"
   ]
  },
  {
   "cell_type": "markdown",
   "metadata": {},
   "source": [
    "Adding normal noise to the points:"
   ]
  },
  {
   "cell_type": "code",
   "execution_count": 33,
   "metadata": {},
   "outputs": [],
   "source": [
    "new_cmds = []\n",
    "for cmd in glyphcommands(f, \"a\"):\n",
    "    stddev = f.density * 0.02\n",
    "    if type(cmd) in (moveto, lineto, quadto, curveto):\n",
    "        cmd.x += normal(0, stddev)\n",
    "        cmd.y += normal(0, stddev)\n",
    "    if type(cmd) in (quadto, curveto):\n",
    "        cmd.x1 += normal(0, stddev)\n",
    "        cmd.y1 += normal(0, stddev)\n",
    "    if type(cmd) == curveto:\n",
    "        cmd.x1 += normal(0, stddev)\n",
    "        cmd.y1 += normal(0, stddev)\n",
    "    new_cmds.append(cmd)"
   ]
  },
  {
   "cell_type": "code",
   "execution_count": 34,
   "metadata": {},
   "outputs": [
    {
     "data": {
      "image/png": "[encoded data removed]",
      "text/plain": [
       "<IPython.core.display.Image object>"
      ]
     },
     "metadata": {},
     "output_type": "display_data"
    }
   ],
   "source": [
    "factor = (1 / f.density) * 50\n",
    "d = document(100, 100, 'mm') # create a document 100mm x 100mm (can replace 'mm' with 'pt')\n",
    "page = d.addpage() # add a page\n",
    "pen = shape().stroke(rgba(0, 0, 0, 255)).fill(rgba(0, 0, 0, 128))\n",
    "glyph_path = pen.path(translate(33, 67, scale(factor, new_cmds)))\n",
    "page.place(glyph_path)\n",
    "show(page) # show the page"
   ]
  },
  {
   "cell_type": "markdown",
   "metadata": {},
   "source": [
    "\"Stretching\" the points:"
   ]
  },
  {
   "cell_type": "code",
   "execution_count": 35,
   "metadata": {},
   "outputs": [],
   "source": [
    "cmds = glyphcommands(f, \"a\")\n",
    "max_y = max([cmd.y for cmd in cmds if type(cmd) in (lineto, moveto, quadto, curveto)])\n",
    "min_y = min([cmd.y for cmd in cmds if type(cmd) in (lineto, moveto, quadto, curveto)])\n",
    "mid = (min_y + max_y) / 2\n",
    "new_cmds = []\n",
    "for cmd in cmds:\n",
    "    if type(cmd) in (moveto, lineto, quadto, curveto):\n",
    "        if cmd.y > mid:\n",
    "            cmd.y += 200\n",
    "            if type(cmd) in (quadto, curveto):\n",
    "                cmd.y1 += 200\n",
    "            if type(cmd) == curveto:\n",
    "                cmd.y2 += 200\n",
    "    new_cmds.append(cmd)"
   ]
  },
  {
   "cell_type": "code",
   "execution_count": 36,
   "metadata": {},
   "outputs": [
    {
     "data": {
      "image/png": "[encoded data removed]",
      "text/plain": [
       "<IPython.core.display.Image object>"
      ]
     },
     "metadata": {},
     "output_type": "display_data"
    }
   ],
   "source": [
    "factor = (1 / f.density) * 50\n",
    "d = document(100, 100, 'mm')\n",
    "page = d.addpage()\n",
    "pen = shape().stroke(rgba(0, 0, 0, 255)).fill(rgba(0, 0, 0, 128))\n",
    "glyph_path = pen.path(translate(33, 67, scale(factor, new_cmds)))\n",
    "page.place(glyph_path)\n",
    "show(page)"
   ]
  },
  {
   "cell_type": "markdown",
   "metadata": {},
   "source": [
    "#### Writing mangled characters\n",
    "\n",
    "Put the code to mangle an individual character in a function:"
   ]
  },
  {
   "cell_type": "code",
   "execution_count": 37,
   "metadata": {},
   "outputs": [],
   "source": [
    "def mangle(f, ch):\n",
    "    cmds = glyphcommands(f, ch)\n",
    "    if len(cmds) == 0:\n",
    "        return cmds\n",
    "    max_y = max([cmd.y for cmd in cmds if type(cmd) in (lineto, moveto, quadto, curveto)])\n",
    "    min_y = min([cmd.y for cmd in cmds if type(cmd) in (lineto, moveto, quadto, curveto)])\n",
    "    mid = (min_y + max_y) / 2\n",
    "    new_cmds = []\n",
    "    pop = uniform(0, 400)\n",
    "    for cmd in cmds:\n",
    "        if type(cmd) in (moveto, lineto, quadto, curveto):\n",
    "            if cmd.y < mid:\n",
    "                cmd.y -= pop\n",
    "                if type(cmd) in (quadto, curveto):\n",
    "                    cmd.y1 -= pop\n",
    "                if type(cmd) == curveto:\n",
    "                    cmd.y2 -= pop\n",
    "        new_cmds.append(cmd)\n",
    "    return new_cmds"
   ]
  },
  {
   "cell_type": "markdown",
   "metadata": {},
   "source": [
    "And then call the function on each character in the string, advancing by the `advance`:"
   ]
  },
  {
   "cell_type": "code",
   "execution_count": 38,
   "metadata": {},
   "outputs": [
    {
     "data": {
      "image/png": "[encoded data removed]",
      "text/plain": [
       "<IPython.core.display.Image object>"
      ]
     },
     "metadata": {},
     "output_type": "display_data"
    }
   ],
   "source": [
    "d = document(400, 80, 'mm')\n",
    "page = d.addpage()\n",
    "pen = shape().stroke(rgba(0, 0, 0, 255)).fill(rgba(0, 0, 0, 128))\n",
    "factor = (1 / f.density) * 48\n",
    "cx = 0\n",
    "for ch in s:\n",
    "    cmds = translate(cx, 60, scale(factor, mangle(f, ch)))\n",
    "    glyph_path = pen.path(cmds)\n",
    "    page.place(glyph_path)\n",
    "    cx += advancefor(f, ch) * factor\n",
    "show(page)"
   ]
  },
  {
   "cell_type": "markdown",
   "metadata": {},
   "source": [
    "Or, instead of using the original command, we can \"reinterpret\" it as another command. This example draws lines instead of curves and circles instead of lines:"
   ]
  },
  {
   "cell_type": "code",
   "execution_count": 39,
   "metadata": {},
   "outputs": [
    {
     "data": {
      "image/png": "[encoded data removed]",
      "text/plain": [
       "<IPython.core.display.Image object>"
      ]
     },
     "metadata": {},
     "output_type": "display_data"
    }
   ],
   "source": [
    "from math import sqrt\n",
    "d = document(100, 100, 'mm')\n",
    "page = d.addpage()\n",
    "pen = shape().stroke(rgba(0, 0, 0, 255)).nofill()\n",
    "factor = (1 / f.density) * 50\n",
    "cx = 0\n",
    "cy = 0\n",
    "transformed_cmds = translate(33, 67, scale(factor, glyphcommands(f, \"R\")))\n",
    "for cmd in transformed_cmds:\n",
    "    if type(cmd) == lineto:\n",
    "        radius = sqrt(pow(cx - cmd.x, 2) + pow(cy - cmd.y, 2)) * 0.5\n",
    "        page.place(pen.circle((cx + cmd.x) / 2, (cy + cmd.y) / 2, radius))\n",
    "    elif type(cmd) in (curveto, quadto):\n",
    "        page.place(pen.line(cx, cy, cmd.x, cmd.y))\n",
    "    if type(cmd) != type(closepath):\n",
    "        cx = cmd.x\n",
    "        cy = cmd.y\n",
    "show(page)"
   ]
  }
 ],
 "metadata": {
  "kernelspec": {
   "display_name": "Python 3",
   "language": "python",
   "name": "python3"
  },
  "language_info": {
   "codemirror_mode": {
    "name": "ipython",
    "version": 3
   },
   "file_extension": ".py",
   "mimetype": "text/x-python",
   "name": "python",
   "nbconvert_exporter": "python",
   "pygments_lexer": "ipython3",
   "version": "3.7.3"
  }
 },
 "nbformat": 4,
 "nbformat_minor": 2
}
